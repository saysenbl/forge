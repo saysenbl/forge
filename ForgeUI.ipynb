{
  "cells": [
    {
      "cell_type": "markdown",
      "metadata": {
        "id": "view-in-github",
        "colab_type": "text"
      },
      "source": [
        "<a href=\"https://colab.research.google.com/github/saysenbl/forge/blob/main/ForgeUI.ipynb\" target=\"_parent\"><img src=\"https://colab.research.google.com/assets/colab-badge.svg\" alt=\"Open In Colab\"/></a>"
      ]
    },
    {
      "cell_type": "markdown",
      "metadata": {
        "id": "vEN0vTM7OgyS"
      },
      "source": [
        "# Mount to Google Drive"
      ]
    },
    {
      "cell_type": "code",
      "execution_count": null,
      "metadata": {
        "colab": {
          "base_uri": "https://localhost:8080/"
        },
        "id": "wLRG7Kn_G94p",
        "outputId": "ca51717c-7d37-4861-d20e-20766d62a764"
      },
      "outputs": [
        {
          "name": "stdout",
          "output_type": "stream",
          "text": [
            "Mounted at /content/gdrive\n"
          ]
        }
      ],
      "source": [
        "from google.colab import drive\n",
        "drive.mount('/content/gdrive')"
      ]
    },
    {
      "cell_type": "markdown",
      "metadata": {
        "id": "e-7Ip80BOmG6"
      },
      "source": [
        "## Access MyDrive"
      ]
    },
    {
      "cell_type": "code",
      "execution_count": null,
      "metadata": {
        "colab": {
          "base_uri": "https://localhost:8080/"
        },
        "id": "Afny_TxdIHiQ",
        "outputId": "10a62213-f03a-4d03-dd99-65218b3d46f9"
      },
      "outputs": [
        {
          "name": "stdout",
          "output_type": "stream",
          "text": [
            "/content/gdrive/MyDrive\n"
          ]
        }
      ],
      "source": [
        "%cd ./gdrive/MyDrive"
      ]
    },
    {
      "cell_type": "markdown",
      "metadata": {
        "id": "Hv9_SDTGOp_W"
      },
      "source": [
        "# Clone ForgeUI Repo - *run the first time only!*"
      ]
    },
    {
      "cell_type": "code",
      "execution_count": null,
      "metadata": {
        "colab": {
          "base_uri": "https://localhost:8080/"
        },
        "id": "98U1yRioHPRH",
        "outputId": "84b97780-09dc-4c47-c6de-5df59bb59bf2"
      },
      "outputs": [
        {
          "name": "stdout",
          "output_type": "stream",
          "text": [
            "fatal: destination path 'stable-diffusion-webui-forge' already exists and is not an empty directory.\n"
          ]
        }
      ],
      "source": [
        "!git clone https://github.com/lllyasviel/stable-diffusion-webui-forge\n"
      ]
    },
    {
      "cell_type": "markdown",
      "metadata": {
        "id": "g5W47IuAcz5A"
      },
      "source": [
        "# Install requirements"
      ]
    },
    {
      "cell_type": "code",
      "execution_count": null,
      "metadata": {
        "colab": {
          "base_uri": "https://localhost:8080/"
        },
        "id": "wrx9ACwHHXFZ",
        "outputId": "468b62e2-3b9f-424b-b5a0-5c22fa292583"
      },
      "outputs": [
        {
          "name": "stdout",
          "output_type": "stream",
          "text": [
            "Collecting pygit2==1.12.2\n",
            "  Downloading pygit2-1.12.2-cp310-cp310-manylinux_2_17_x86_64.manylinux2014_x86_64.whl (4.9 MB)\n",
            "\u001b[2K     \u001b[90m━━━━━━━━━━━━━━━━━━━━━━━━━━━━━━━━━━━━━━━━\u001b[0m \u001b[32m4.9/4.9 MB\u001b[0m \u001b[31m14.9 MB/s\u001b[0m eta \u001b[36m0:00:00\u001b[0m\n",
            "\u001b[?25hRequirement already satisfied: cffi>=1.9.1 in /usr/local/lib/python3.10/dist-packages (from pygit2==1.12.2) (1.16.0)\n",
            "Requirement already satisfied: pycparser in /usr/local/lib/python3.10/dist-packages (from cffi>=1.9.1->pygit2==1.12.2) (2.22)\n",
            "Installing collected packages: pygit2\n",
            "Successfully installed pygit2-1.12.2\n"
          ]
        }
      ],
      "source": [
        "!pip install pygit2==1.12.2"
      ]
    },
    {
      "cell_type": "markdown",
      "metadata": {
        "id": "L-BwmGCSOXpp"
      },
      "source": [
        "# Initialise Stable Diffusion"
      ]
    },
    {
      "cell_type": "code",
      "execution_count": null,
      "metadata": {
        "colab": {
          "background_save": true,
          "base_uri": "https://localhost:8080/"
        },
        "id": "0ydXeWW9vPhF",
        "outputId": "af53f7da-ab8c-4d83-fce0-7e9c4b81795d"
      },
      "outputs": [
        {
          "name": "stdout",
          "output_type": "stream",
          "text": [
            "[Errno 2] No such file or directory: 'stable-diffusion-webui-forge/'\n",
            "/content/gdrive/MyDrive/stable-diffusion-webui-forge\n",
            "Python 3.10.12 (main, Nov 20 2023, 15:14:05) [GCC 11.4.0]\n",
            "Version: f0.0.17v1.8.0rc-latest-276-g29be1da7\n",
            "Commit hash: 29be1da7cf2b5dccfc70fbdd33eb35c56a31ffb7\n",
            "Legacy Preprocessor init warning: Unable to install insightface automatically. Please try run `pip install insightface` manually.\n",
            "Launching Web UI with arguments: --share --enable-insecure-extension-access\n",
            "Total VRAM 16151 MB, total RAM 52218 MB\n",
            "Set vram state to: NORMAL_VRAM\n",
            "Device: cuda:0 Tesla V100-SXM2-16GB : native\n",
            "VAE dtype: torch.float32\n",
            "CUDA Stream Activated:  False\n",
            "2024-04-07 05:01:41.099237: E external/local_xla/xla/stream_executor/cuda/cuda_dnn.cc:9261] Unable to register cuDNN factory: Attempting to register factory for plugin cuDNN when one has already been registered\n",
            "2024-04-07 05:01:41.099291: E external/local_xla/xla/stream_executor/cuda/cuda_fft.cc:607] Unable to register cuFFT factory: Attempting to register factory for plugin cuFFT when one has already been registered\n",
            "2024-04-07 05:01:41.100698: E external/local_xla/xla/stream_executor/cuda/cuda_blas.cc:1515] Unable to register cuBLAS factory: Attempting to register factory for plugin cuBLAS when one has already been registered\n",
            "2024-04-07 05:01:42.405974: W tensorflow/compiler/tf2tensorrt/utils/py_utils.cc:38] TF-TRT Warning: Could not find TensorRT\n",
            "Using pytorch cross attention\n",
            "ControlNet preprocessor location: /content/gdrive/MyDrive/stable-diffusion-webui-forge/models/ControlNetPreprocessor\n",
            "Loading weights [15012c538f] from /content/gdrive/MyDrive/stable-diffusion-webui-forge/models/Stable-diffusion/realisticVisionV51_v51VAE.safetensors\n",
            "2024-04-07 05:01:50,801 - ControlNet - \u001b[0;32mINFO\u001b[0m - ControlNet UI callback registered.\n",
            "Running on local URL:  http://127.0.0.1:7860\n",
            "model_type EPS\n",
            "UNet ADM Dimension 0\n",
            "Using pytorch attention in VAE\n",
            "Working with z of shape (1, 4, 32, 32) = 4096 dimensions.\n",
            "Using pytorch attention in VAE\n",
            "extra {'cond_stage_model.clip_l.logit_scale', 'cond_stage_model.clip_l.text_projection'}\n",
            "To load target model SD1ClipModel\n",
            "Begin to load 1 model\n",
            "[Memory Management] Current Free GPU Memory (MB) =  15842.3740234375\n",
            "[Memory Management] Model Memory (MB) =  454.2076225280762\n",
            "[Memory Management] Minimal Inference Memory (MB) =  1024.0\n",
            "[Memory Management] Estimated Remaining GPU Memory (MB) =  14364.166400909424\n",
            "Moving model(s) has taken 0.10 seconds\n",
            "Model loaded in 4.3s (load weights from disk: 1.4s, forge load real models: 2.1s, calculate empty prompt: 0.7s).\n",
            "Running on public URL: https://967f8aadd54a798ca4.gradio.live\n",
            "\n",
            "This share link expires in 72 hours. For free permanent hosting and GPU upgrades, run `gradio deploy` from Terminal to deploy to Spaces (https://huggingface.co/spaces)\n",
            "Startup time: 23.8s (prepare environment: 2.7s, import torch: 4.7s, import gradio: 1.0s, setup paths: 3.3s, initialize shared: 0.5s, other imports: 0.9s, list SD models: 0.2s, load scripts: 4.7s, create ui: 0.9s, gradio launch: 4.6s).\n"
          ]
        }
      ],
      "source": [
        "%cd stable-diffusion-webui-forge/\n",
        "!python launch.py --share --enable-insecure-extension-access"
      ]
    },
    {
      "cell_type": "code",
      "execution_count": null,
      "metadata": {
        "id": "ugNyaHeO7tuV"
      },
      "outputs": [],
      "source": []
    }
  ],
  "metadata": {
    "accelerator": "GPU",
    "colab": {
      "gpuType": "V100",
      "machine_shape": "hm",
      "provenance": [],
      "include_colab_link": true
    },
    "kernelspec": {
      "display_name": "Python 3",
      "name": "python3"
    },
    "language_info": {
      "name": "python"
    }
  },
  "nbformat": 4,
  "nbformat_minor": 0
}