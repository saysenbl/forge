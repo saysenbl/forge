{
  "cells": [
    {
      "cell_type": "markdown",
      "metadata": {
        "id": "view-in-github",
        "colab_type": "text"
      },
      "source": [
        "<a href=\"https://colab.research.google.com/github/saysenbl/forge/blob/main/ForgeUI%2Bmodelo%2Blora.ipynb\" target=\"_parent\"><img src=\"https://colab.research.google.com/assets/colab-badge.svg\" alt=\"Open In Colab\"/></a>"
      ]
    },
    {
      "cell_type": "markdown",
      "metadata": {
        "id": "vEN0vTM7OgyS"
      },
      "source": [
        "# Mount to Google Drive"
      ]
    },
    {
      "cell_type": "code",
      "execution_count": 1,
      "metadata": {
        "id": "z38eP5pu4da3"
      },
      "outputs": [],
      "source": [
        "import requests\n",
        "import os"
      ]
    },
    {
      "cell_type": "code",
      "execution_count": null,
      "metadata": {
        "id": "wLRG7Kn_G94p",
        "colab": {
          "base_uri": "https://localhost:8080/"
        },
        "outputId": "8106b001-90b5-44f8-c9e6-673a2282e826"
      },
      "outputs": [
        {
          "output_type": "stream",
          "name": "stdout",
          "text": [
            "Drive already mounted at /content/gdrive; to attempt to forcibly remount, call drive.mount(\"/content/gdrive\", force_remount=True).\n"
          ]
        }
      ],
      "source": [
        "from google.colab import drive\n",
        "drive.mount('/content/gdrive')"
      ]
    },
    {
      "cell_type": "markdown",
      "source": [
        "url de archivos para cargar"
      ],
      "metadata": {
        "id": "hlzFAaDft_qQ"
      }
    },
    {
      "cell_type": "code",
      "source": [
        "urls = [\n",
        "    'https://huggingface.co/lllyasviel/misc/resolve/main/xlvaeapp.pth',\n",
        "    'https://huggingface.co/lllyasviel/misc/resolve/main/vaeapp_sd15.pt',\n",
        "    'https://huggingface.co/mashb1t/misc/resolve/main/xl-to-v1_interposer-v4.0.safetensors',\n",
        "    'https://huggingface.co/lllyasviel/fav_models/resolve/main/fav/realisticStockPhoto_v20.safetensors',\n",
        "    'https://huggingface.co/mashb1t/fav_models/resolve/main/fav/SDXL_FILM_PHOTOGRAPHY_STYLE_V1.safetensors'\n",
        "]\n",
        "\n",
        "output_dirs = [\n",
        "    '/content/gdrive/MyDrive/stable-diffusion-webui-forge/models/VAE-approx/',\n",
        "    '/content/gdrive/MyDrive/stable-diffusion-webui-forge/models/VAE-approx/',\n",
        "    '/content/gdrive/MyDrive/stable-diffusion-webui-forge/models/VAE-approx/',\n",
        "    '/content/gdrive/MyDrive/stable-diffusion-webui-forge/models/Stable-diffusion/',\n",
        "    '/content/gdrive/MyDrive/stable-diffusion-webui-forge/models/Lora/'\n",
        "]\n",
        "\n",
        "nombres_archivos = [\n",
        "    'xlvaeapp.pth',\n",
        "    'vaeapp_sd15.pth',\n",
        "    'xl-to-v1_interposer-v4.0.safetensors',\n",
        "    'realisticStockPhoto_v20.safetensors',\n",
        "    'SDXL_FILM_PHOTOGRAPHY_STYLE_V1.safetensors'\n",
        "]\n",
        "\n"
      ],
      "metadata": {
        "id": "ZHZQOK2ItREU"
      },
      "execution_count": null,
      "outputs": []
    },
    {
      "cell_type": "markdown",
      "source": [
        "Descarga los archivos"
      ],
      "metadata": {
        "id": "c_Ed9kcmuV5k"
      }
    },
    {
      "cell_type": "code",
      "source": [
        "for url, output_dir, nombre_archivo in zip(urls, output_dirs, nombres_archivos):\n",
        "    response = requests.get(url)\n",
        "    with open(output_dir + nombre_archivo, 'wb') as file:\n",
        "        file.write(response.content)\n"
      ],
      "metadata": {
        "id": "fo7oB8Utt83e"
      },
      "execution_count": null,
      "outputs": []
    },
    {
      "cell_type": "markdown",
      "metadata": {
        "id": "e-7Ip80BOmG6"
      },
      "source": [
        "## Access MyDrive"
      ]
    },
    {
      "cell_type": "code",
      "execution_count": 2,
      "metadata": {
        "colab": {
          "base_uri": "https://localhost:8080/"
        },
        "id": "Afny_TxdIHiQ",
        "outputId": "aaedb3ab-970b-4746-80bd-652ae25b5067"
      },
      "outputs": [
        {
          "output_type": "stream",
          "name": "stdout",
          "text": [
            "[Errno 2] No such file or directory: './gdrive/MyDrive'\n",
            "/content\n"
          ]
        }
      ],
      "source": [
        "%cd ./gdrive/MyDrive"
      ]
    },
    {
      "cell_type": "code",
      "execution_count": 3,
      "metadata": {
        "colab": {
          "base_uri": "https://localhost:8080/"
        },
        "outputId": "e58a2d6f-2c27-47d0-8b7d-18867ba039be",
        "id": "zaxIThdM5wg0"
      },
      "outputs": [
        {
          "output_type": "stream",
          "name": "stdout",
          "text": [
            "/content\n"
          ]
        }
      ],
      "source": [
        "%cd /content"
      ]
    },
    {
      "cell_type": "markdown",
      "metadata": {
        "id": "Hv9_SDTGOp_W"
      },
      "source": [
        "# Clone ForgeUI Repo - *run the first time only!*"
      ]
    },
    {
      "cell_type": "code",
      "execution_count": 4,
      "metadata": {
        "colab": {
          "base_uri": "https://localhost:8080/"
        },
        "id": "98U1yRioHPRH",
        "outputId": "650752fa-f2e4-4a88-9561-0804e6798dae"
      },
      "outputs": [
        {
          "output_type": "stream",
          "name": "stdout",
          "text": [
            "Cloning into 'stable-diffusion-webui-forge'...\n",
            "remote: Enumerating objects: 41216, done.\u001b[K\n",
            "remote: Counting objects: 100% (452/452), done.\u001b[K\n",
            "remote: Compressing objects: 100% (262/262), done.\u001b[K\n",
            "remote: Total 41216 (delta 240), reused 360 (delta 180), pack-reused 40764 (from 1)\u001b[K\n",
            "Receiving objects: 100% (41216/41216), 46.55 MiB | 23.23 MiB/s, done.\n",
            "Resolving deltas: 100% (28453/28453), done.\n"
          ]
        }
      ],
      "source": [
        "!git clone https://github.com/lllyasviel/stable-diffusion-webui-forge\n"
      ]
    },
    {
      "cell_type": "markdown",
      "metadata": {
        "id": "g5W47IuAcz5A"
      },
      "source": [
        "# Install requirements"
      ]
    },
    {
      "cell_type": "code",
      "execution_count": 5,
      "metadata": {
        "colab": {
          "base_uri": "https://localhost:8080/"
        },
        "id": "wrx9ACwHHXFZ",
        "outputId": "f8b2994f-cfa9-4892-c0dc-c45425612c0b"
      },
      "outputs": [
        {
          "output_type": "stream",
          "name": "stdout",
          "text": [
            "Collecting pygit2==1.12.2\n",
            "  Downloading pygit2-1.12.2-cp310-cp310-manylinux_2_17_x86_64.manylinux2014_x86_64.whl.metadata (3.5 kB)\n",
            "Requirement already satisfied: cffi>=1.9.1 in /usr/local/lib/python3.10/dist-packages (from pygit2==1.12.2) (1.17.1)\n",
            "Requirement already satisfied: pycparser in /usr/local/lib/python3.10/dist-packages (from cffi>=1.9.1->pygit2==1.12.2) (2.22)\n",
            "Downloading pygit2-1.12.2-cp310-cp310-manylinux_2_17_x86_64.manylinux2014_x86_64.whl (4.9 MB)\n",
            "\u001b[2K   \u001b[90m━━━━━━━━━━━━━━━━━━━━━━━━━━━━━━━━━━━━━━━━\u001b[0m \u001b[32m4.9/4.9 MB\u001b[0m \u001b[31m39.9 MB/s\u001b[0m eta \u001b[36m0:00:00\u001b[0m\n",
            "\u001b[?25hInstalling collected packages: pygit2\n",
            "Successfully installed pygit2-1.12.2\n"
          ]
        }
      ],
      "source": [
        "!pip install pygit2==1.12.2"
      ]
    },
    {
      "cell_type": "markdown",
      "metadata": {
        "id": "L-BwmGCSOXpp"
      },
      "source": [
        "# Initialise Stable Diffusion"
      ]
    },
    {
      "cell_type": "code",
      "execution_count": null,
      "metadata": {
        "colab": {
          "base_uri": "https://localhost:8080/"
        },
        "id": "0ydXeWW9vPhF",
        "outputId": "a9f6d7d7-df6f-4a7c-847e-555fc56be4e3"
      },
      "outputs": [
        {
          "output_type": "stream",
          "name": "stdout",
          "text": [
            "/content/gdrive/MyDrive/stable-diffusion-webui-forge\n",
            "Python 3.10.12 (main, Jul 29 2024, 16:56:48) [GCC 11.4.0]\n",
            "Version: f2.0.1v1.10.1-previous-530-g8bd7e056\n",
            "Commit hash: 8bd7e0568f4d942f4d17bcc7a6966e92d2b897eb\n",
            "Installing requirements\n",
            "Legacy Preprocessor init warning: Unable to install insightface automatically. Please try run `pip install insightface` manually.\n",
            "Launching Web UI with arguments: --share --enable-insecure-extension-access\n",
            "Total VRAM 15102 MB, total RAM 12979 MB\n",
            "pytorch version: 2.4.0+cu121\n",
            "Set vram state to: NORMAL_VRAM\n",
            "Device: cuda:0 Tesla T4 : native\n",
            "VAE dtype preferences: [torch.float32] -> torch.float32\n",
            "CUDA Using Stream: False\n",
            "2024-09-15 21:36:37.357670: E external/local_xla/xla/stream_executor/cuda/cuda_fft.cc:485] Unable to register cuFFT factory: Attempting to register factory for plugin cuFFT when one has already been registered\n",
            "2024-09-15 21:36:37.624685: E external/local_xla/xla/stream_executor/cuda/cuda_dnn.cc:8454] Unable to register cuDNN factory: Attempting to register factory for plugin cuDNN when one has already been registered\n",
            "2024-09-15 21:36:37.699109: E external/local_xla/xla/stream_executor/cuda/cuda_blas.cc:1452] Unable to register cuBLAS factory: Attempting to register factory for plugin cuBLAS when one has already been registered\n",
            "2024-09-15 21:36:38.141934: I tensorflow/core/platform/cpu_feature_guard.cc:210] This TensorFlow binary is optimized to use available CPU instructions in performance-critical operations.\n",
            "To enable the following instructions: AVX2 FMA, in other operations, rebuild TensorFlow with the appropriate compiler flags.\n",
            "2024-09-15 21:36:40.619314: W tensorflow/compiler/tf2tensorrt/utils/py_utils.cc:38] TF-TRT Warning: Could not find TensorRT\n",
            "Using pytorch cross attention\n",
            "Using pytorch attention for VAE\n",
            "ControlNet preprocessor location: /content/gdrive/MyDrive/stable-diffusion-webui-forge/models/ControlNetPreprocessor\n",
            "2024-09-15 21:36:56,590 - ControlNet - \u001b[0;32mINFO\u001b[0m - ControlNet UI callback registered.\n",
            "You do not have any model!\n",
            "Model selected: {'checkpoint_info': None, 'additional_modules': [], 'unet_storage_dtype': None}\n",
            "Using online LoRAs in FP16: False\n",
            "Running on local URL:  http://127.0.0.1:7860\n",
            "Running on public URL: https://7de6d14df01ffbd3f4.gradio.live\n",
            "\n",
            "This share link expires in 72 hours. For free permanent hosting and GPU upgrades, run `gradio deploy` from Terminal to deploy to Spaces (https://huggingface.co/spaces)\n",
            "Startup time: 42.0s (prepare environment: 9.6s, import torch: 20.7s, initialize shared: 0.2s, other imports: 1.2s, load scripts: 4.0s, create ui: 4.1s, gradio launch: 1.8s).\n",
            "Interrupted with signal 2 in <frame at 0x5991aa878170, file '/content/gdrive/MyDrive/stable-diffusion-webui-forge/modules_forge/main_thread.py', line 43, code loop>\n"
          ]
        }
      ],
      "source": [
        "%cd stable-diffusion-webui-forge/\n",
        "!python launch.py --share --enable-insecure-extension-access"
      ]
    },
    {
      "cell_type": "code",
      "execution_count": 7,
      "metadata": {
        "id": "ugNyaHeO7tuV",
        "colab": {
          "base_uri": "https://localhost:8080/"
        },
        "collapsed": true,
        "outputId": "bd5622ad-3db7-40d9-deec-951cda77df34"
      },
      "outputs": [
        {
          "output_type": "stream",
          "name": "stdout",
          "text": [
            "--2024-09-16 02:41:24--  https://huggingface.co/saysenbl/lismarie/blob/main/flux_train_replicate.safetensors\n",
            "Resolving huggingface.co (huggingface.co)... 18.164.174.118, 18.164.174.17, 18.164.174.55, ...\n",
            "Connecting to huggingface.co (huggingface.co)|18.164.174.118|:443... connected.\n",
            "HTTP request sent, awaiting response... 200 OK\n",
            "Length: 41429 (40K) [text/html]\n",
            "Saving to: ‘/content/stable-diffusion-webui-forge/models/loras/flux_lora_lismarie.safetensors’\n",
            "\n",
            "/content/stable-dif 100%[===================>]  40.46K  --.-KB/s    in 0.07s   \n",
            "\n",
            "2024-09-16 02:41:25 (617 KB/s) - ‘/content/stable-diffusion-webui-forge/models/loras/flux_lora_lismarie.safetensors’ saved [41429/41429]\n",
            "\n"
          ]
        }
      ],
      "source": [
        "os.makedirs('/content/stable-diffusion-webui-forge/models/loras', exist_ok=True)\n",
        "!wget -O /content/stable-diffusion-webui-forge/models/loras/flux_lora_lismarie.safetensors https://huggingface.co/saysenbl/lismarie/blob/main/flux_train_replicate.safetensors"
      ]
    },
    {
      "cell_type": "code",
      "source": [
        "os.makedirs('/content/stable-diffusion-webui-forge/models/Stable-diffusion', exist_ok=True)\n",
        "!wget -O /content/stable-diffusion-webui-forge/models/Stable-diffusion/realisticStockPhoto_v20.safetensors https://huggingface.co/lllyasviel/fav_models/resolve/main/fav/realisticStockPhoto_v20.safetensors"
      ],
      "metadata": {
        "colab": {
          "base_uri": "https://localhost:8080/"
        },
        "collapsed": true,
        "id": "QhEFT1FJ7AjO",
        "outputId": "5d1c6de6-ed30-4b04-8883-8394693ddb3e"
      },
      "execution_count": 8,
      "outputs": [
        {
          "output_type": "stream",
          "name": "stdout",
          "text": [
            "--2024-09-16 02:43:11--  https://huggingface.co/lllyasviel/fav_models/resolve/main/fav/realisticStockPhoto_v20.safetensors\n",
            "Resolving huggingface.co (huggingface.co)... 18.164.174.23, 18.164.174.17, 18.164.174.118, ...\n",
            "Connecting to huggingface.co (huggingface.co)|18.164.174.23|:443... connected.\n",
            "HTTP request sent, awaiting response... 302 Found\n",
            "Location: https://cdn-lfs.huggingface.co/repos/28/bd/28bdd0d1412f6be5c8b6b66f41d0285200cf6546186fc9cb237b5db186a4a0a8/f99f3dec38a09b4834a4a073bdc45aabd42b422b4d327f5e8001afcb5ffb5f45?response-content-disposition=inline%3B+filename*%3DUTF-8%27%27realisticStockPhoto_v20.safetensors%3B+filename%3D%22realisticStockPhoto_v20.safetensors%22%3B&Expires=1726713791&Policy=eyJTdGF0ZW1lbnQiOlt7IkNvbmRpdGlvbiI6eyJEYXRlTGVzc1RoYW4iOnsiQVdTOkVwb2NoVGltZSI6MTcyNjcxMzc5MX19LCJSZXNvdXJjZSI6Imh0dHBzOi8vY2RuLWxmcy5odWdnaW5nZmFjZS5jby9yZXBvcy8yOC9iZC8yOGJkZDBkMTQxMmY2YmU1YzhiNmI2NmY0MWQwMjg1MjAwY2Y2NTQ2MTg2ZmM5Y2IyMzdiNWRiMTg2YTRhMGE4L2Y5OWYzZGVjMzhhMDliNDgzNGE0YTA3M2JkYzQ1YWFiZDQyYjQyMmI0ZDMyN2Y1ZTgwMDFhZmNiNWZmYjVmNDU%7EcmVzcG9uc2UtY29udGVudC1kaXNwb3NpdGlvbj0qIn1dfQ__&Signature=iHIC%7E0lbVzak5z6D3O8RBFzxIoRc2fn7AGo1iIr2ebYQLyrCqtkX1TKccFAeo54U%7ETm3-V7HITyXKp5cuqwLBZfq-v37xckqKxCiDWH9Da04amuJmuzV7jTj4-GnlJLg315qNkoJlJvkQXDbPm8SIUlviNYClh3YSEwRg7DBjs4Dp545bP%7EMuOKKR6OWJMa7KkjMiP4I%7EX%7EtVzRP1Lthwvl2418AId%7ErLcxJy51hGI%7EmetFuK6VZzamtn4NMfsXBYouFv5syON1F0EXVl2z26Kjmj86jm6C8mSq6qDuRNRnfYJmk7B8YlNq62DjUGlnTCjqy%7Ebes0rqtYykL4gBDPQ__&Key-Pair-Id=K3ESJI6DHPFC7 [following]\n",
            "--2024-09-16 02:43:11--  https://cdn-lfs.huggingface.co/repos/28/bd/28bdd0d1412f6be5c8b6b66f41d0285200cf6546186fc9cb237b5db186a4a0a8/f99f3dec38a09b4834a4a073bdc45aabd42b422b4d327f5e8001afcb5ffb5f45?response-content-disposition=inline%3B+filename*%3DUTF-8%27%27realisticStockPhoto_v20.safetensors%3B+filename%3D%22realisticStockPhoto_v20.safetensors%22%3B&Expires=1726713791&Policy=eyJTdGF0ZW1lbnQiOlt7IkNvbmRpdGlvbiI6eyJEYXRlTGVzc1RoYW4iOnsiQVdTOkVwb2NoVGltZSI6MTcyNjcxMzc5MX19LCJSZXNvdXJjZSI6Imh0dHBzOi8vY2RuLWxmcy5odWdnaW5nZmFjZS5jby9yZXBvcy8yOC9iZC8yOGJkZDBkMTQxMmY2YmU1YzhiNmI2NmY0MWQwMjg1MjAwY2Y2NTQ2MTg2ZmM5Y2IyMzdiNWRiMTg2YTRhMGE4L2Y5OWYzZGVjMzhhMDliNDgzNGE0YTA3M2JkYzQ1YWFiZDQyYjQyMmI0ZDMyN2Y1ZTgwMDFhZmNiNWZmYjVmNDU%7EcmVzcG9uc2UtY29udGVudC1kaXNwb3NpdGlvbj0qIn1dfQ__&Signature=iHIC%7E0lbVzak5z6D3O8RBFzxIoRc2fn7AGo1iIr2ebYQLyrCqtkX1TKccFAeo54U%7ETm3-V7HITyXKp5cuqwLBZfq-v37xckqKxCiDWH9Da04amuJmuzV7jTj4-GnlJLg315qNkoJlJvkQXDbPm8SIUlviNYClh3YSEwRg7DBjs4Dp545bP%7EMuOKKR6OWJMa7KkjMiP4I%7EX%7EtVzRP1Lthwvl2418AId%7ErLcxJy51hGI%7EmetFuK6VZzamtn4NMfsXBYouFv5syON1F0EXVl2z26Kjmj86jm6C8mSq6qDuRNRnfYJmk7B8YlNq62DjUGlnTCjqy%7Ebes0rqtYykL4gBDPQ__&Key-Pair-Id=K3ESJI6DHPFC7\n",
            "Resolving cdn-lfs.huggingface.co (cdn-lfs.huggingface.co)... 18.154.206.14, 18.154.206.28, 18.154.206.17, ...\n",
            "Connecting to cdn-lfs.huggingface.co (cdn-lfs.huggingface.co)|18.154.206.14|:443... connected.\n",
            "HTTP request sent, awaiting response... 200 OK\n",
            "Length: 6938054242 (6.5G) [binary/octet-stream]\n",
            "Saving to: ‘/content/stable-diffusion-webui-forge/models/Stable-diffusion/realisticStockPhoto_v20.safetensors’\n",
            "\n",
            "/content/stable-dif 100%[===================>]   6.46G   209MB/s    in 37s     \n",
            "\n",
            "2024-09-16 02:43:49 (178 MB/s) - ‘/content/stable-diffusion-webui-forge/models/Stable-diffusion/realisticStockPhoto_v20.safetensors’ saved [6938054242/6938054242]\n",
            "\n"
          ]
        }
      ]
    },
    {
      "cell_type": "code",
      "source": [
        "os.makedirs('/content/gdrive/MyDrive/Fooocus/models/VAE-approx', exist_ok=True)\n",
        "!wget -O /content/stable-diffusion-webui-forge/models/VAE-approx/xlvaeapp.pth https://huggingface.co/lllyasviel/misc/resolve/main/xlvaeapp.pth\n",
        "\n",
        "os.makedirs('/content/gdrive/MyDrive/Fooocus/models//VAE-approx', exist_ok=True)\n",
        "!wget -O /content/stable-diffusion-webui-forge/models/VAE-approx/vaeapp_sd15.pt https://huggingface.co/lllyasviel/misc/resolve/main/vaeapp_sd15.pt\n",
        "\n",
        "os.makedirs('/content/gdrive/MyDrive/Fooocus/models/VAE-approx', exist_ok=True)\n",
        "!wget -O /content/stable-diffusion-webui-forge/models/VAE-approx/xl-to-v1_interposer-v4.0.safetensors https://huggingface.co/mashb1t/misc/resolve/main/xl-to-v1_interposer-v4.0.safetensors\n",
        "\n",
        "os.makedirs('/content/gdrive/MyDrive/Fooocus/models/Stable-diffusion', exist_ok=True)\n",
        "!wget -O /content/stable-diffusion-webui-forge/models/Stable-diffusion/realisticStockPhoto_v20.safetensors https://huggingface.co/lllyasviel/fav_models/resolve/main/fav/realisticStockPhoto_v20.safetensors\n",
        "\n",
        "os.makedirs('/content/gdrive/MyDrive/Fooocus/models/loras', exist_ok=True)\n",
        "!wget -O /content/stable-diffusion-webui-forge/models/Lora/SDXL_FILM_PHOTOGRAPHY_STYLE_V1.safetensors https://huggingface.co/mashb1t/fav_models/resolve/main/fav/SDXL_FILM_PHOTOGRAPHY_STYLE_V1.safetensors\n"
      ],
      "metadata": {
        "colab": {
          "base_uri": "https://localhost:8080/"
        },
        "id": "BG0dj40j-BqZ",
        "outputId": "0a199b23-35c2-4b42-df5a-3a12bb4c113b"
      },
      "execution_count": 9,
      "outputs": [
        {
          "output_type": "stream",
          "name": "stdout",
          "text": [
            "--2024-09-16 02:55:12--  https://huggingface.co/lllyasviel/misc/resolve/main/xlvaeapp.pth\n",
            "Resolving huggingface.co (huggingface.co)... 18.164.174.118, 18.164.174.17, 18.164.174.23, ...\n",
            "Connecting to huggingface.co (huggingface.co)|18.164.174.118|:443... connected.\n",
            "HTTP request sent, awaiting response... 302 Found\n",
            "Location: https://cdn-lfs.huggingface.co/repos/a0/98/a0982ba1da0e537533a4a05a675f0c9dfad94d26569be52c9e743668f1ec6cd1/6c8db511f910184436a613807ce06a729f4cf96bbf7977c7c6c40d5b3e4a8333?response-content-disposition=inline%3B+filename*%3DUTF-8%27%27xlvaeapp.pth%3B+filename%3D%22xlvaeapp.pth%22%3B&Expires=1726714425&Policy=eyJTdGF0ZW1lbnQiOlt7IkNvbmRpdGlvbiI6eyJEYXRlTGVzc1RoYW4iOnsiQVdTOkVwb2NoVGltZSI6MTcyNjcxNDQyNX19LCJSZXNvdXJjZSI6Imh0dHBzOi8vY2RuLWxmcy5odWdnaW5nZmFjZS5jby9yZXBvcy9hMC85OC9hMDk4MmJhMWRhMGU1Mzc1MzNhNGEwNWE2NzVmMGM5ZGZhZDk0ZDI2NTY5YmU1MmM5ZTc0MzY2OGYxZWM2Y2QxLzZjOGRiNTExZjkxMDE4NDQzNmE2MTM4MDdjZTA2YTcyOWY0Y2Y5NmJiZjc5NzdjN2M2YzQwZDViM2U0YTgzMzM%7EcmVzcG9uc2UtY29udGVudC1kaXNwb3NpdGlvbj0qIn1dfQ__&Signature=Nh7nVFGQBv-ycUgZvQZ7%7EOWfb768GAJ88Rqd9cmCpxrtp8Flq6tTiqIewHZdPTK-Zj5YD7p3GQkZTTO5s99G2wpmka48zGmZJN7EFKQqai56DKLJxJebb7Y3u3C9llxqMBXQMR8Ugrk1IqYqq29F6cFaM2ETH0TxTmNFsrJ%7Ewgm23KK6cqOuSzWulby8r257o0RUgBQQkzahpnFPMlQJ2MBoF0jausSLbO6HWVSx0rGSV6YsQg4au9IjjBLbMzQAchHtiGiIOF-evup5Geve7lb4d%7Edyf5Q2iL6KD6xownA43ADiMbXI2060zebK8I5OZ%7ERVdUuRCQ8dmdlsxogxMQ__&Key-Pair-Id=K3ESJI6DHPFC7 [following]\n",
            "--2024-09-16 02:55:12--  https://cdn-lfs.huggingface.co/repos/a0/98/a0982ba1da0e537533a4a05a675f0c9dfad94d26569be52c9e743668f1ec6cd1/6c8db511f910184436a613807ce06a729f4cf96bbf7977c7c6c40d5b3e4a8333?response-content-disposition=inline%3B+filename*%3DUTF-8%27%27xlvaeapp.pth%3B+filename%3D%22xlvaeapp.pth%22%3B&Expires=1726714425&Policy=eyJTdGF0ZW1lbnQiOlt7IkNvbmRpdGlvbiI6eyJEYXRlTGVzc1RoYW4iOnsiQVdTOkVwb2NoVGltZSI6MTcyNjcxNDQyNX19LCJSZXNvdXJjZSI6Imh0dHBzOi8vY2RuLWxmcy5odWdnaW5nZmFjZS5jby9yZXBvcy9hMC85OC9hMDk4MmJhMWRhMGU1Mzc1MzNhNGEwNWE2NzVmMGM5ZGZhZDk0ZDI2NTY5YmU1MmM5ZTc0MzY2OGYxZWM2Y2QxLzZjOGRiNTExZjkxMDE4NDQzNmE2MTM4MDdjZTA2YTcyOWY0Y2Y5NmJiZjc5NzdjN2M2YzQwZDViM2U0YTgzMzM%7EcmVzcG9uc2UtY29udGVudC1kaXNwb3NpdGlvbj0qIn1dfQ__&Signature=Nh7nVFGQBv-ycUgZvQZ7%7EOWfb768GAJ88Rqd9cmCpxrtp8Flq6tTiqIewHZdPTK-Zj5YD7p3GQkZTTO5s99G2wpmka48zGmZJN7EFKQqai56DKLJxJebb7Y3u3C9llxqMBXQMR8Ugrk1IqYqq29F6cFaM2ETH0TxTmNFsrJ%7Ewgm23KK6cqOuSzWulby8r257o0RUgBQQkzahpnFPMlQJ2MBoF0jausSLbO6HWVSx0rGSV6YsQg4au9IjjBLbMzQAchHtiGiIOF-evup5Geve7lb4d%7Edyf5Q2iL6KD6xownA43ADiMbXI2060zebK8I5OZ%7ERVdUuRCQ8dmdlsxogxMQ__&Key-Pair-Id=K3ESJI6DHPFC7\n",
            "Resolving cdn-lfs.huggingface.co (cdn-lfs.huggingface.co)... 18.154.206.4, 18.154.206.28, 18.154.206.14, ...\n",
            "Connecting to cdn-lfs.huggingface.co (cdn-lfs.huggingface.co)|18.154.206.4|:443... connected.\n",
            "HTTP request sent, awaiting response... 200 OK\n",
            "Length: 213777 (209K) [binary/octet-stream]\n",
            "Saving to: ‘/content/stable-diffusion-webui-forge/models/VAE-approx/xlvaeapp.pth’\n",
            "\n",
            "/content/stable-dif 100%[===================>] 208.77K  --.-KB/s    in 0.03s   \n",
            "\n",
            "2024-09-16 02:55:13 (7.64 MB/s) - ‘/content/stable-diffusion-webui-forge/models/VAE-approx/xlvaeapp.pth’ saved [213777/213777]\n",
            "\n",
            "--2024-09-16 02:55:13--  https://huggingface.co/lllyasviel/misc/resolve/main/vaeapp_sd15.pt\n",
            "Resolving huggingface.co (huggingface.co)... 18.164.174.23, 18.164.174.17, 18.164.174.118, ...\n",
            "Connecting to huggingface.co (huggingface.co)|18.164.174.23|:443... connected.\n",
            "HTTP request sent, awaiting response... 302 Found\n",
            "Location: https://cdn-lfs.huggingface.co/repos/a0/98/a0982ba1da0e537533a4a05a675f0c9dfad94d26569be52c9e743668f1ec6cd1/4f88c9078bb2238cdd0d8864671dd33e3f42e091e41f08903f3c15e4a54a9b39?response-content-disposition=inline%3B+filename*%3DUTF-8%27%27vaeapp_sd15.pt%3B+filename%3D%22vaeapp_sd15.pt%22%3B&Expires=1726713207&Policy=eyJTdGF0ZW1lbnQiOlt7IkNvbmRpdGlvbiI6eyJEYXRlTGVzc1RoYW4iOnsiQVdTOkVwb2NoVGltZSI6MTcyNjcxMzIwN319LCJSZXNvdXJjZSI6Imh0dHBzOi8vY2RuLWxmcy5odWdnaW5nZmFjZS5jby9yZXBvcy9hMC85OC9hMDk4MmJhMWRhMGU1Mzc1MzNhNGEwNWE2NzVmMGM5ZGZhZDk0ZDI2NTY5YmU1MmM5ZTc0MzY2OGYxZWM2Y2QxLzRmODhjOTA3OGJiMjIzOGNkZDBkODg2NDY3MWRkMzNlM2Y0MmUwOTFlNDFmMDg5MDNmM2MxNWU0YTU0YTliMzk%7EcmVzcG9uc2UtY29udGVudC1kaXNwb3NpdGlvbj0qIn1dfQ__&Signature=KRV03Tx8oYLLeCY4h4VsEuTJ9KjsVETTfioQoqHVQ-ZWB31NyCdahD8Yx7Sjh-Rvje3RsPOaWmaHf-0euDSeI3z5YKRtccbr2RavOjLs7WLY0uTr0cp-jK4yJ1kTd%7ElstY4SrR-KkDxGA4YY1mHvW5At-laPVd77bEnfF3Z2TBw8CORlGjsg4w-UlbSYKtjmN%7EnDP%7Ert4Pc-Ay1hdFB84bTfQnPFood%7ETXClZ1Il4kgZhrMko0PB5qUSmMGe52uzhjTFR9K%7EZuuZ3YQ%7EGAriKswz5umzFonbZCeUw0-1oyobHCqVcqJogpzqsLIaedpqmAFlnzwuoihHZk8bxg%7EQDQ__&Key-Pair-Id=K3ESJI6DHPFC7 [following]\n",
            "--2024-09-16 02:55:13--  https://cdn-lfs.huggingface.co/repos/a0/98/a0982ba1da0e537533a4a05a675f0c9dfad94d26569be52c9e743668f1ec6cd1/4f88c9078bb2238cdd0d8864671dd33e3f42e091e41f08903f3c15e4a54a9b39?response-content-disposition=inline%3B+filename*%3DUTF-8%27%27vaeapp_sd15.pt%3B+filename%3D%22vaeapp_sd15.pt%22%3B&Expires=1726713207&Policy=eyJTdGF0ZW1lbnQiOlt7IkNvbmRpdGlvbiI6eyJEYXRlTGVzc1RoYW4iOnsiQVdTOkVwb2NoVGltZSI6MTcyNjcxMzIwN319LCJSZXNvdXJjZSI6Imh0dHBzOi8vY2RuLWxmcy5odWdnaW5nZmFjZS5jby9yZXBvcy9hMC85OC9hMDk4MmJhMWRhMGU1Mzc1MzNhNGEwNWE2NzVmMGM5ZGZhZDk0ZDI2NTY5YmU1MmM5ZTc0MzY2OGYxZWM2Y2QxLzRmODhjOTA3OGJiMjIzOGNkZDBkODg2NDY3MWRkMzNlM2Y0MmUwOTFlNDFmMDg5MDNmM2MxNWU0YTU0YTliMzk%7EcmVzcG9uc2UtY29udGVudC1kaXNwb3NpdGlvbj0qIn1dfQ__&Signature=KRV03Tx8oYLLeCY4h4VsEuTJ9KjsVETTfioQoqHVQ-ZWB31NyCdahD8Yx7Sjh-Rvje3RsPOaWmaHf-0euDSeI3z5YKRtccbr2RavOjLs7WLY0uTr0cp-jK4yJ1kTd%7ElstY4SrR-KkDxGA4YY1mHvW5At-laPVd77bEnfF3Z2TBw8CORlGjsg4w-UlbSYKtjmN%7EnDP%7Ert4Pc-Ay1hdFB84bTfQnPFood%7ETXClZ1Il4kgZhrMko0PB5qUSmMGe52uzhjTFR9K%7EZuuZ3YQ%7EGAriKswz5umzFonbZCeUw0-1oyobHCqVcqJogpzqsLIaedpqmAFlnzwuoihHZk8bxg%7EQDQ__&Key-Pair-Id=K3ESJI6DHPFC7\n",
            "Resolving cdn-lfs.huggingface.co (cdn-lfs.huggingface.co)... 18.154.206.4, 18.154.206.28, 18.154.206.14, ...\n",
            "Connecting to cdn-lfs.huggingface.co (cdn-lfs.huggingface.co)|18.154.206.4|:443... connected.\n",
            "HTTP request sent, awaiting response... 200 OK\n",
            "Length: 213777 (209K) [binary/octet-stream]\n",
            "Saving to: ‘/content/stable-diffusion-webui-forge/models/VAE-approx/vaeapp_sd15.pt’\n",
            "\n",
            "/content/stable-dif 100%[===================>] 208.77K  --.-KB/s    in 0.03s   \n",
            "\n",
            "2024-09-16 02:55:13 (7.36 MB/s) - ‘/content/stable-diffusion-webui-forge/models/VAE-approx/vaeapp_sd15.pt’ saved [213777/213777]\n",
            "\n",
            "--2024-09-16 02:55:13--  https://huggingface.co/mashb1t/misc/resolve/main/xl-to-v1_interposer-v4.0.safetensors\n",
            "Resolving huggingface.co (huggingface.co)... 18.164.174.23, 18.164.174.17, 18.164.174.118, ...\n",
            "Connecting to huggingface.co (huggingface.co)|18.164.174.23|:443... connected.\n",
            "HTTP request sent, awaiting response... 302 Found\n",
            "Location: https://cdn-lfs-us-1.huggingface.co/repos/26/a4/26a4f17063fad22f43a678b30415df724afa03387c1e0608eee295c0ac036afc/da4c2d772c621134ba1a2d961a439cbc4b4c85c43aae1197ab3c024e2a3efa57?response-content-disposition=inline%3B+filename*%3DUTF-8%27%27xl-to-v1_interposer-v4.0.safetensors%3B+filename%3D%22xl-to-v1_interposer-v4.0.safetensors%22%3B&Expires=1726713026&Policy=eyJTdGF0ZW1lbnQiOlt7IkNvbmRpdGlvbiI6eyJEYXRlTGVzc1RoYW4iOnsiQVdTOkVwb2NoVGltZSI6MTcyNjcxMzAyNn19LCJSZXNvdXJjZSI6Imh0dHBzOi8vY2RuLWxmcy11cy0xLmh1Z2dpbmdmYWNlLmNvL3JlcG9zLzI2L2E0LzI2YTRmMTcwNjNmYWQyMmY0M2E2NzhiMzA0MTVkZjcyNGFmYTAzMzg3YzFlMDYwOGVlZTI5NWMwYWMwMzZhZmMvZGE0YzJkNzcyYzYyMTEzNGJhMWEyZDk2MWE0MzljYmM0YjRjODVjNDNhYWUxMTk3YWIzYzAyNGUyYTNlZmE1Nz9yZXNwb25zZS1jb250ZW50LWRpc3Bvc2l0aW9uPSoifV19&Signature=YyziQRrvx1hFER9v8J9d43hPtT2doPTrEZMa7Ub7yCFUcO1xKOlaXGGQbnpU4R-3gXb6dN0ic5ydJfbtLNKcB19yw3uCeEGmZUFOPI5E6Cg77sif%7EPex-JOUhnNI%7EzDMddODXCYpMuM7ppLrqgpGHp0P05BL46eVXdNcW4R0pPmbbeO5KH3aMQMxp%7Eu8iWx0MI1MBckiQSPN4GoJhWa7oP%7Ehmv30htMB5Re0KkYCmXs9Ny5KAcPZcHeJ1tBBYM62grr6WbMZMnrOvpTdRyhw0mVDX86iuM3lQmdKl%7EKw8YVTrwp13gKxW2zeGT2mQa7LBZSd2AUXw0jbU3ULTIBzfw__&Key-Pair-Id=K24J24Z295AEI9 [following]\n",
            "--2024-09-16 02:55:13--  https://cdn-lfs-us-1.huggingface.co/repos/26/a4/26a4f17063fad22f43a678b30415df724afa03387c1e0608eee295c0ac036afc/da4c2d772c621134ba1a2d961a439cbc4b4c85c43aae1197ab3c024e2a3efa57?response-content-disposition=inline%3B+filename*%3DUTF-8%27%27xl-to-v1_interposer-v4.0.safetensors%3B+filename%3D%22xl-to-v1_interposer-v4.0.safetensors%22%3B&Expires=1726713026&Policy=eyJTdGF0ZW1lbnQiOlt7IkNvbmRpdGlvbiI6eyJEYXRlTGVzc1RoYW4iOnsiQVdTOkVwb2NoVGltZSI6MTcyNjcxMzAyNn19LCJSZXNvdXJjZSI6Imh0dHBzOi8vY2RuLWxmcy11cy0xLmh1Z2dpbmdmYWNlLmNvL3JlcG9zLzI2L2E0LzI2YTRmMTcwNjNmYWQyMmY0M2E2NzhiMzA0MTVkZjcyNGFmYTAzMzg3YzFlMDYwOGVlZTI5NWMwYWMwMzZhZmMvZGE0YzJkNzcyYzYyMTEzNGJhMWEyZDk2MWE0MzljYmM0YjRjODVjNDNhYWUxMTk3YWIzYzAyNGUyYTNlZmE1Nz9yZXNwb25zZS1jb250ZW50LWRpc3Bvc2l0aW9uPSoifV19&Signature=YyziQRrvx1hFER9v8J9d43hPtT2doPTrEZMa7Ub7yCFUcO1xKOlaXGGQbnpU4R-3gXb6dN0ic5ydJfbtLNKcB19yw3uCeEGmZUFOPI5E6Cg77sif%7EPex-JOUhnNI%7EzDMddODXCYpMuM7ppLrqgpGHp0P05BL46eVXdNcW4R0pPmbbeO5KH3aMQMxp%7Eu8iWx0MI1MBckiQSPN4GoJhWa7oP%7Ehmv30htMB5Re0KkYCmXs9Ny5KAcPZcHeJ1tBBYM62grr6WbMZMnrOvpTdRyhw0mVDX86iuM3lQmdKl%7EKw8YVTrwp13gKxW2zeGT2mQa7LBZSd2AUXw0jbU3ULTIBzfw__&Key-Pair-Id=K24J24Z295AEI9\n",
            "Resolving cdn-lfs-us-1.huggingface.co (cdn-lfs-us-1.huggingface.co)... 18.154.206.42, 18.154.206.94, 18.154.206.88, ...\n",
            "Connecting to cdn-lfs-us-1.huggingface.co (cdn-lfs-us-1.huggingface.co)|18.154.206.42|:443... connected.\n",
            "HTTP request sent, awaiting response... 200 OK\n",
            "Length: 5667280 (5.4M) [binary/octet-stream]\n",
            "Saving to: ‘/content/stable-diffusion-webui-forge/models/VAE-approx/xl-to-v1_interposer-v4.0.safetensors’\n",
            "\n",
            "/content/stable-dif 100%[===================>]   5.40M  --.-KB/s    in 0.07s   \n",
            "\n",
            "2024-09-16 02:55:13 (78.3 MB/s) - ‘/content/stable-diffusion-webui-forge/models/VAE-approx/xl-to-v1_interposer-v4.0.safetensors’ saved [5667280/5667280]\n",
            "\n",
            "--2024-09-16 02:55:14--  https://huggingface.co/lllyasviel/fav_models/resolve/main/fav/realisticStockPhoto_v20.safetensors\n",
            "Resolving huggingface.co (huggingface.co)... 18.164.174.23, 18.164.174.17, 18.164.174.118, ...\n",
            "Connecting to huggingface.co (huggingface.co)|18.164.174.23|:443... connected.\n",
            "HTTP request sent, awaiting response... 302 Found\n",
            "Location: https://cdn-lfs.huggingface.co/repos/28/bd/28bdd0d1412f6be5c8b6b66f41d0285200cf6546186fc9cb237b5db186a4a0a8/f99f3dec38a09b4834a4a073bdc45aabd42b422b4d327f5e8001afcb5ffb5f45?response-content-disposition=inline%3B+filename*%3DUTF-8%27%27realisticStockPhoto_v20.safetensors%3B+filename%3D%22realisticStockPhoto_v20.safetensors%22%3B&Expires=1726713278&Policy=eyJTdGF0ZW1lbnQiOlt7IkNvbmRpdGlvbiI6eyJEYXRlTGVzc1RoYW4iOnsiQVdTOkVwb2NoVGltZSI6MTcyNjcxMzI3OH19LCJSZXNvdXJjZSI6Imh0dHBzOi8vY2RuLWxmcy5odWdnaW5nZmFjZS5jby9yZXBvcy8yOC9iZC8yOGJkZDBkMTQxMmY2YmU1YzhiNmI2NmY0MWQwMjg1MjAwY2Y2NTQ2MTg2ZmM5Y2IyMzdiNWRiMTg2YTRhMGE4L2Y5OWYzZGVjMzhhMDliNDgzNGE0YTA3M2JkYzQ1YWFiZDQyYjQyMmI0ZDMyN2Y1ZTgwMDFhZmNiNWZmYjVmNDU%7EcmVzcG9uc2UtY29udGVudC1kaXNwb3NpdGlvbj0qIn1dfQ__&Signature=YSdM3vVqAPlj8Eh3MxZDDnKi49YJRl6Jtlx2YaI2jMBG9EqQM2TnXlFgub0l7sM7Nxb7YhH45YPUPXwuENFqc7DW1-YuGdLTiVp1xSJrM5TcykjqqvmCpc2n0wChD7TT%7EnhyFwedfLZrlCsbOOlja9eQLigvBkWAC6ef%7Eg1BFAmGEoNetKrEUk8uG7QD1O0LHvCv0-d3gFuGcFc-jozwhl0DNXESg5B2n6fI4Ekq1J%7EYGtygXfLRP11O1DWpdLg5MgF8Duu0%7EjY%7EgVKFq%7EI4dzptY8hfuYbJn-4Q863j042Gke2B8eSd76xvxXDzf9hyd2W9gHBfh-26lC8863YKMA__&Key-Pair-Id=K3ESJI6DHPFC7 [following]\n",
            "--2024-09-16 02:55:14--  https://cdn-lfs.huggingface.co/repos/28/bd/28bdd0d1412f6be5c8b6b66f41d0285200cf6546186fc9cb237b5db186a4a0a8/f99f3dec38a09b4834a4a073bdc45aabd42b422b4d327f5e8001afcb5ffb5f45?response-content-disposition=inline%3B+filename*%3DUTF-8%27%27realisticStockPhoto_v20.safetensors%3B+filename%3D%22realisticStockPhoto_v20.safetensors%22%3B&Expires=1726713278&Policy=eyJTdGF0ZW1lbnQiOlt7IkNvbmRpdGlvbiI6eyJEYXRlTGVzc1RoYW4iOnsiQVdTOkVwb2NoVGltZSI6MTcyNjcxMzI3OH19LCJSZXNvdXJjZSI6Imh0dHBzOi8vY2RuLWxmcy5odWdnaW5nZmFjZS5jby9yZXBvcy8yOC9iZC8yOGJkZDBkMTQxMmY2YmU1YzhiNmI2NmY0MWQwMjg1MjAwY2Y2NTQ2MTg2ZmM5Y2IyMzdiNWRiMTg2YTRhMGE4L2Y5OWYzZGVjMzhhMDliNDgzNGE0YTA3M2JkYzQ1YWFiZDQyYjQyMmI0ZDMyN2Y1ZTgwMDFhZmNiNWZmYjVmNDU%7EcmVzcG9uc2UtY29udGVudC1kaXNwb3NpdGlvbj0qIn1dfQ__&Signature=YSdM3vVqAPlj8Eh3MxZDDnKi49YJRl6Jtlx2YaI2jMBG9EqQM2TnXlFgub0l7sM7Nxb7YhH45YPUPXwuENFqc7DW1-YuGdLTiVp1xSJrM5TcykjqqvmCpc2n0wChD7TT%7EnhyFwedfLZrlCsbOOlja9eQLigvBkWAC6ef%7Eg1BFAmGEoNetKrEUk8uG7QD1O0LHvCv0-d3gFuGcFc-jozwhl0DNXESg5B2n6fI4Ekq1J%7EYGtygXfLRP11O1DWpdLg5MgF8Duu0%7EjY%7EgVKFq%7EI4dzptY8hfuYbJn-4Q863j042Gke2B8eSd76xvxXDzf9hyd2W9gHBfh-26lC8863YKMA__&Key-Pair-Id=K3ESJI6DHPFC7\n",
            "Resolving cdn-lfs.huggingface.co (cdn-lfs.huggingface.co)... 18.154.206.4, 18.154.206.28, 18.154.206.14, ...\n",
            "Connecting to cdn-lfs.huggingface.co (cdn-lfs.huggingface.co)|18.154.206.4|:443... connected.\n",
            "HTTP request sent, awaiting response... 200 OK\n",
            "Length: 6938054242 (6.5G) [binary/octet-stream]\n",
            "Saving to: ‘/content/stable-diffusion-webui-forge/models/Stable-diffusion/realisticStockPhoto_v20.safetensors’\n",
            "\n",
            "/content/stable-dif 100%[===================>]   6.46G   241MB/s    in 33s     \n",
            "\n",
            "2024-09-16 02:55:47 (200 MB/s) - ‘/content/stable-diffusion-webui-forge/models/Stable-diffusion/realisticStockPhoto_v20.safetensors’ saved [6938054242/6938054242]\n",
            "\n",
            "/content/stable-diffusion-webui-forge/models/Lora/SDXL_FILM_PHOTOGRAPHY_STYLE_V1.safetensors: No such file or directory\n"
          ]
        }
      ]
    }
  ],
  "metadata": {
    "accelerator": "GPU",
    "colab": {
      "gpuType": "T4",
      "provenance": [],
      "include_colab_link": true
    },
    "kernelspec": {
      "display_name": "Python 3",
      "name": "python3"
    },
    "language_info": {
      "name": "python"
    }
  },
  "nbformat": 4,
  "nbformat_minor": 0
}